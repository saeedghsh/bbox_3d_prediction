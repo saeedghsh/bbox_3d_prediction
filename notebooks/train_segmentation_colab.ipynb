{
 "cells": [
  {
   "cell_type": "markdown",
   "metadata": {},
   "source": [
    "# Segmentation Training"
   ]
  },
  {
   "cell_type": "markdown",
   "metadata": {},
   "source": [
    "### Setup"
   ]
  },
  {
   "cell_type": "code",
   "execution_count": null,
   "metadata": {},
   "outputs": [],
   "source": [
    "import os\n",
    "\n",
    "# Mount google drive\n",
    "from google.colab import drive\n",
    "drive.mount('/content/drive')\n",
    "\n",
    "# Repo path on google drive\n",
    "repo_path_google_drive = \"/content/drive/MyDrive/projects/bbox_3d_prediction\"\n",
    "\n",
    "# Clone the repository in colab into the google drive (pull if already exists) \n",
    "if os.path.exists(repo_path_google_drive):\n",
    "    print(\"Repository already exists. Pulling latest changes...\")\n",
    "    os.chdir(repo_path_google_drive)\n",
    "    !git pull\n",
    "else:\n",
    "    print(\"Cloning repository...\")\n",
    "    github_repo_url = \"https://github.com/saeedghsh/bbox_3d_prediction.git\"\n",
    "    !git clone {github_repo_url} {repo_google_drive_path}\n",
    "    os.chdir(repo_path_google_drive)\n",
    "\n",
    "print(\"Checking Path of the Current Directory:\")\n",
    "!pwd\n",
    "\n",
    "print(\"Listing content of the current directory:\")\n",
    "!ls\n",
    "\n",
    "# Install dependencies\n",
    "# NOTE: not needed as colab environment already has the required packages\n",
    "# NOTE: installing dependencies will result requiring to restart the colab runtime\n",
    "# %pip install -r requirements.txt"
   ]
  },
  {
   "cell_type": "markdown",
   "metadata": {},
   "source": [
    "### Run segmentation training"
   ]
  },
  {
   "cell_type": "code",
   "execution_count": null,
   "metadata": {},
   "outputs": [],
   "source": [
    "# from training.train_segmentation import main as train_segmentation_main\n",
    "# train_segmentation_main([])"
   ]
  }
 ],
 "metadata": {
  "kernelspec": {
   "display_name": "bbox_3d_prediction",
   "language": "python",
   "name": "python3"
  },
  "language_info": {
   "codemirror_mode": {
    "name": "ipython",
    "version": 3
   },
   "file_extension": ".py",
   "mimetype": "text/x-python",
   "name": "python",
   "nbconvert_exporter": "python",
   "pygments_lexer": "ipython3",
   "version": "3.12.3"
  }
 },
 "nbformat": 4,
 "nbformat_minor": 2
}
